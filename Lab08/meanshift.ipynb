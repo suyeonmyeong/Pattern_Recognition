{
 "cells": [
  {
   "cell_type": "code",
   "execution_count": null,
   "id": "2e02fc2d",
   "metadata": {},
   "outputs": [],
   "source": [
    "import numpy as np"
   ]
  },
  {
   "cell_type": "code",
   "execution_count": null,
   "id": "9c9b9fe5",
   "metadata": {},
   "outputs": [],
   "source": [
    "def calc_euclidean_distance(p1, p2):\n",
    "    return np.sqrt(np.sum((p1 - p2) ** 2))"
   ]
  },
  {
   "cell_type": "code",
   "execution_count": null,
   "id": "a78f0405",
   "metadata": {
    "lines_to_next_cell": 1
   },
   "outputs": [],
   "source": [
    "def calc_weight(x, kernel='flat'):\n",
    "    if x <= 1:\n",
    "        if kernel.lower() == 'flat':\n",
    "            return 1\n",
    "        elif kernel.lower() == 'gaussian':\n",
    "            return np.exp(-1 * (x ** 2))\n",
    "        else:\n",
    "            raise Exception(\"'%s' is invalid kernel\" % kernel)\n",
    "    else:\n",
    "        return 0"
   ]
  },
  {
   "cell_type": "code",
   "execution_count": null,
   "id": "68d0f447",
   "metadata": {},
   "outputs": [],
   "source": [
    "def mean_shift(X, bandwidth, n_iteration=20, epsilon=0.001):\n",
    "    history = {}\n",
    "    for i in range(len(X)):\n",
    "        history[i] = []\n",
    "    centroids = np.zeros_like(X)   \n",
    "\n",
    "    for i in range(len(X)):\n",
    "        centroid = X[i].copy()  # 초기 중심점(t_0) 설정 -> 각 datapoint를 초기 중심점으로 할당\n",
    "        prev = centroid.copy()\n",
    "        history[i].append(centroid.copy())\n",
    "        \n",
    "        t = 0\n",
    "        while True:\n",
    "            if t > n_iteration:\n",
    "                break\n",
    "\n",
    "            numerator = 0\n",
    "            denominator = 0\n",
    "            for sample in X:\n",
    "                distance = calc_euclidean_distance(centroid, sample) \n",
    "                weight = calc_weight(distance/ bandwidth, kernel='flat')  # 가중치 계산\n",
    "                numerator += ((sample - centroid) * weight)\n",
    "                denominator += weight\n",
    "\n",
    "            if denominator ==0:\n",
    "              shift=0\n",
    "            else:\n",
    "              shift = numerator/denominator\n",
    "            centroid+= shift\n",
    "\n",
    "            # 종료 조건: 중심점 이동량이 epsilon 이하이면 종료\n",
    "            if calc_euclidean_distance(centroid, prev) < epsilon:\n",
    "                break\n",
    "\n",
    "            prev = centroid.copy()\n",
    "            t += 1\n",
    "\n",
    "            history[i].append(centroid.copy())\n",
    "        \n",
    "        centroids[i] = centroid.copy()\n",
    "\n",
    "    return centroids, history"
   ]
  }
 ],
 "metadata": {
  "jupytext": {
   "cell_metadata_filter": "-all",
   "main_language": "python",
   "notebook_metadata_filter": "-all"
  }
 },
 "nbformat": 4,
 "nbformat_minor": 5
}
