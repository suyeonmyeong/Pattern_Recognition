{
 "cells": [
  {
   "cell_type": "code",
   "execution_count": null,
   "id": "afcd1ca2",
   "metadata": {
    "lines_to_next_cell": 1
   },
   "outputs": [],
   "source": [
    "import cv2\n",
    "import numpy as np"
   ]
  },
  {
   "cell_type": "code",
   "execution_count": null,
   "id": "f6dbfee6",
   "metadata": {
    "lines_to_next_cell": 1
   },
   "outputs": [],
   "source": [
    "def get_pixel(img, center, x, y):\n",
    "    if img[x][y] >= center:\n",
    "        return 1\n",
    "    else:\n",
    "        return 0"
   ]
  },
  {
   "cell_type": "code",
   "execution_count": null,
   "id": "567e6b9a",
   "metadata": {},
   "outputs": [],
   "source": [
    "def ROR(value, nBits, k):\n",
    "    return ((value<<k)&(2**nBits-1))|(value>>(nBits-k))"
   ]
  },
  {
   "cell_type": "code",
   "execution_count": null,
   "id": "1558c706",
   "metadata": {},
   "outputs": [],
   "source": [
    "def lbp_algorithm(img, x, y, rotation_invariance = False):\n",
    "    center = img[x][y]\n",
    "    val_ar = []\n",
    "\n",
    "    # 주변 픽셀 값 비교\n",
    "    val_ar.append(get_pixel(img, center, x - 1, y - 1))  # top_left\n",
    "    val_ar.append(get_pixel(img, center, x - 1, y))      # top\n",
    "    val_ar.append(get_pixel(img, center, x - 1, y + 1))  # top_right\n",
    "    val_ar.append(get_pixel(img, center, x, y + 1))      # right\n",
    "    val_ar.append(get_pixel(img, center, x + 1, y + 1))  # bottom_right\n",
    "    val_ar.append(get_pixel(img, center, x + 1, y))      # bottom\n",
    "    val_ar.append(get_pixel(img, center, x + 1, y - 1))  # bottom_left\n",
    "    val_ar.append(get_pixel(img, center, x, y - 1))      # left\n",
    "\n",
    "    power_val = [1, 2, 4, 8, 16, 32, 64, 128]\n",
    "    val = 0\n",
    "\n",
    "    for i in range(len(val_ar)):\n",
    "        val += val_ar[i] * power_val[i]\n",
    "\n",
    "    if rotation_invariance:\n",
    "        final_value = val\n",
    "        for k in range(8):\n",
    "            final_value = min(final_value, ROR(val, 8, k))\n",
    "        val = final_value\n",
    "\n",
    "    return val"
   ]
  },
  {
   "cell_type": "code",
   "execution_count": null,
   "id": "0968bc1d",
   "metadata": {},
   "outputs": [],
   "source": [
    "def img2histo(img):\n",
    "  height = len(img[0])\n",
    "  width = len(img[0])\n",
    "  img_gray = cv2.cvtColor(img, cv2.COLOR_BGR2GRAY)\n",
    "  img_lbp = np.zeros((width, height), np.uint8)\n",
    "\n",
    "  for i in range(1, height-1):\n",
    "      for j in range(1, width-1):\n",
    "          ## 채우기\n",
    "          img_lbp[i, j] = lbp_algorithm(img_gray, i, j, True)  # LBP 알고리즘 적용\n",
    "\n",
    "  img_histo = cv2.calcHist([img_lbp], [0], None, [256], [0,256])\n",
    "\n",
    "  return img_histo.flatten()"
   ]
  },
  {
   "cell_type": "code",
   "execution_count": null,
   "id": "4e58ae50",
   "metadata": {},
   "outputs": [],
   "source": [
    "def img2histo_patch(img, patch_num=5):\n",
    "\n",
    "  total_histo = np.array([])\n",
    "  height = len(img[0])//patch_num\n",
    "  width = len(img[0])//patch_num\n",
    "\n",
    "  for x in range(patch_num):\n",
    "    for y in range(patch_num):\n",
    "      ## part 이미지 선언 후 gray scale로 변경\n",
    "      part_img = img[x * width:(x + 1) * width, \n",
    "                                y * height:(y + 1) * height]\n",
    "      part_img = cv2.cvtColor(part_img, cv2.COLOR_BGR2GRAY)\n",
    "\n",
    "      part_lbp = np.zeros((width, height), np.uint8)\n",
    "\n",
    "      for i in range(1, height-1):\n",
    "          for j in range(1, width-1):\n",
    "              part_lbp[i, j] = lbp_algorithm(part_img, i, j, False)\n",
    "\n",
    "      part_histo = cv2.calcHist([part_lbp], [0], None, [256], [0,256])\n",
    "      total_histo=np.append(total_histo, part_histo.flatten(), axis = 0)\n",
    "\n",
    "  return total_histo"
   ]
  }
 ],
 "metadata": {
  "jupytext": {
   "cell_metadata_filter": "-all",
   "main_language": "python",
   "notebook_metadata_filter": "-all"
  }
 },
 "nbformat": 4,
 "nbformat_minor": 5
}
